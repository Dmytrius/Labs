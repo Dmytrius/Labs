{
 "cells": [
  {
   "metadata": {},
   "cell_type": "markdown",
   "source": "Підвантаження бібліотек",
   "id": "f9db93c1c77c4d83"
  },
  {
   "cell_type": "code",
   "id": "initial_id",
   "metadata": {
    "collapsed": true
   },
   "source": [
    "!pip install PyWavelets matplotlib numpy imageio\n",
    "\n",
    "import numpy as np\n",
    "import pywt\n",
    "import matplotlib.pyplot as plt\n",
    "import imageio.v3 as iio\n",
    "\n",
    "np.set_printoptions(suppress=True, precision=3)"
   ],
   "outputs": [],
   "execution_count": null
  },
  {
   "metadata": {},
   "cell_type": "markdown",
   "source": [
    "Побудуємо початкову матрицю N, та початкову матрицю Хаара (Н) розмірності (4/4):\n",
    "$$\n",
    "H = \\frac{1}{2}\n",
    "\\begin{bmatrix}\n",
    "1 & 1 & 1 & 1 \\\\\n",
    "1 & 1 & -1 & -1 \\\\\n",
    "\\sqrt{2} & -\\sqrt{2} & 0 & 0 \\\\\n",
    "0 & 0 & \\sqrt{2} & -\\sqrt{2}\n",
    "\\end{bmatrix}\n",
    "$$\n",
    "\n"
   ],
   "id": "887864d1ee0013ba"
  },
  {
   "metadata": {},
   "cell_type": "code",
   "source": [
    "N = 12\n",
    "A = np.array([[N, N+1, N+2, N+3],\n",
    "              [N+4, N+5, N+6, N+7],\n",
    "              [N+8, N+9, N+10, N+11],\n",
    "              [N+12, N+13, N+14, N+15]])\n",
    "\n",
    "H = 1/2 * np.array([[1,  1,  1,  1],\n",
    "                    [1,  1, -1, -1],\n",
    "                    [np.sqrt(2), -np.sqrt(2), 0, 0],\n",
    "                    [0, 0, np.sqrt(2), -np.sqrt(2)]])"
   ],
   "id": "27e470cca8f5a8ad",
   "outputs": [],
   "execution_count": null
  },
  {
   "metadata": {},
   "cell_type": "markdown",
   "source": [
    "Виконаємо двовимірне перетворення Хаара.\n",
    "Перетворення Хаара (двовимірне) виконується за формулою:\n",
    "$$\n",
    "F = H \\cdot A \\cdot H^T\n",
    "$$\n",
    "де:\n",
    "- (F) — підсумкова матриця після перетворення;\n",
    "- (A) — початкова матриця;\n",
    "- (H^T) — транспонована матриця Хаара.\n"
   ],
   "id": "4e046ef1e300dbb0"
  },
  {
   "metadata": {},
   "cell_type": "code",
   "source": [
    "F = np.dot(np.dot(H, A), H.T)\n",
    "print(\"Результат двовимірного перетворення Хаара:\\n\", F)"
   ],
   "id": "bae2b37a081bc62a",
   "outputs": [],
   "execution_count": null
  },
  {
   "metadata": {},
   "cell_type": "markdown",
   "source": "Округлити коефіцієнти в отриманій матриці до цілих чисел.",
   "id": "803e9cb00f61452d"
  },
  {
   "metadata": {},
   "cell_type": "code",
   "source": [
    "F_rounded = np.round(F)  # округлення коефіцієнтів матриці F до цілих чисел\n",
    "print(F_rounded)"
   ],
   "id": "aa09bcd7dc874324",
   "outputs": [],
   "execution_count": null
  },
  {
   "metadata": {},
   "cell_type": "markdown",
   "source": [
    "Відновити вихідну матрицю з округлених коефіцієнтів та розрахувати\n",
    "для парних варіантів середньоквадратичне відхилення\n"
   ],
   "id": "d0050c21afabd790"
  },
  {
   "metadata": {},
   "cell_type": "code",
   "source": [
    "# Відновлення вихідної матриці з округлених коефіцієнтів\n",
    "A_reconstructed = H.T @ F_rounded @ H\n",
    "print(\"Відновлена матриця (округлена):\\n\", np.round(A_reconstructed))\n",
    "\n",
    "# Середньоквадратичне відхилення\n",
    "mse = np.sqrt(np.mean((A - A_reconstructed) ** 2))\n",
    "print(\"Середньоквадратичне відхилення (MSE):\", mse)"
   ],
   "id": "bbd7d823ed4dea23",
   "outputs": [],
   "execution_count": null
  },
  {
   "metadata": {},
   "cell_type": "markdown",
   "source": [
    "Відновити вихідну матрицю з округлених коефіцієнтів та розрахувати\n",
    "для непарних – відношення сигнал/шум."
   ],
   "id": "6100e6768338e57a"
  },
  {
   "metadata": {},
   "cell_type": "code",
   "source": [
    "# Відновлення вихідної матриці з округлених коефіцієнтів\n",
    "A_reconstructed = H.T @ F_rounded @ H\n",
    "print(\"Відновлена матриця (округлена):\\n\", np.round(A_reconstructed))\n",
    "\n",
    "# Обчислення сигналу (потужність оригінального сигналу)\n",
    "signal_power = np.sum(A ** 2)\n",
    "\n",
    "# Обчислення шуму (відхилення відновленого сигналу)\n",
    "noise_power = np.sum((A - A_reconstructed) ** 2)\n",
    "\n",
    "# Відношення сигнал/шум (SNR)\n",
    "snr = 10 * np.log10(signal_power / noise_power)\n",
    "print(\"Відношення сигнал/шум (SNR) в dB:\", snr)\n"
   ],
   "id": "dd16ad3907456136",
   "outputs": [],
   "execution_count": null
  },
  {
   "metadata": {},
   "cell_type": "markdown",
   "source": "Приклад програмного рішення в python, що є аналогом Wavelet_Compression з Matlab",
   "id": "2a6171ba33260276"
  },
  {
   "metadata": {},
   "cell_type": "code",
   "source": [
    "\n",
    "# Відкриваємо зображення і конвертуємо у відтінки сірого\n",
    "image = iio.imread('./example.jpg', mode='L')\n",
    "\n",
    "\n",
    "# Перетворення даних у масив numpy й нормалізація\n",
    "data = np.array(image, dtype=float) / 255.0\n",
    "\n",
    "\n",
    "# Виконання вейвлет-перетворення\n",
    "coeffs = pywt.wavedec2(data, wavelet='haar', level=2)\n",
    "\n",
    "# Встановлення порога для компресії (трешхолдінг)\n",
    "threshold = 0.05\n",
    "coeffs_thresh = list(coeffs)\n",
    "coeffs_thresh[0] = pywt.threshold(coeffs_thresh[0], threshold, mode='soft')\n",
    "coeffs_thresh[1:] = [(pywt.threshold(cH, threshold, mode='soft'),\n",
    "                      pywt.threshold(cV, threshold, mode='soft'),\n",
    "                      pywt.threshold(cD, threshold, mode='soft')) for cH, cV, cD in coeffs_thresh[1:]]\n",
    "\n",
    "# Зворотне вейвлет-перетворення для відновлення даних\n",
    "compressed_data = pywt.waverec2(coeffs_thresh, wavelet='haar')\n",
    "\n",
    "# Візуалізація вихідного та стисненого зображень\n",
    "plt.figure(figsize=(10, 5))\n",
    "\n",
    "plt.subplot(1, 2, 1)\n",
    "plt.imshow(data, cmap='gray')\n",
    "plt.title('Оригінальні дані')\n",
    "plt.axis('off')\n",
    "\n",
    "plt.subplot(1, 2, 2)\n",
    "plt.imshow(compressed_data, cmap='gray')\n",
    "plt.title('Стиснені дані (після thresholding)')\n",
    "plt.axis('off')\n",
    "\n",
    "plt.show()\n"
   ],
   "id": "5cf7aee551f6d6fa",
   "outputs": [],
   "execution_count": null
  }
 ],
 "metadata": {
  "kernelspec": {
   "display_name": "Python 3",
   "language": "python",
   "name": "python3"
  },
  "language_info": {
   "codemirror_mode": {
    "name": "ipython",
    "version": 2
   },
   "file_extension": ".py",
   "mimetype": "text/x-python",
   "name": "python",
   "nbconvert_exporter": "python",
   "pygments_lexer": "ipython2",
   "version": "2.7.6"
  }
 },
 "nbformat": 4,
 "nbformat_minor": 5
}
