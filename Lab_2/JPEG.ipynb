{
 "cells": [
  {
   "cell_type": "markdown",
   "id": "b151ad6b9d118393",
   "metadata": {
    "editable": true,
    "slideshow": {
     "slide_type": ""
    },
    "tags": []
   },
   "source": [
    "Для обчислення **дискретного косинусного перетворення (DCT)** для заданої матриці, спершу слід визначити матрицю вхідних значень, а потім застосувати формулу перетворення DCT. Розрахунок виконується за допомогою такої формули для 2D DCT:\n",
    "\n",
    "$$\n",
    "F(u, v) = \\alpha(u) \\alpha(v) \\sum_{x=0}^{M-1} \\sum_{y=0}^{N-1} f(x, y) \\cos\\left[\\frac{\\pi (2x+1)u}{2M}\\right] \\cos\\left[\\frac{\\pi (2y+1)v}{2N}\\right],\n",
    "$$\n",
    "\n",
    "де:\n",
    "- ( f(x, y) )— елементи вихідної матриці,\n",
    "- ( F(u, v) )— елементи результуючої матриці після DCT,\n",
    "-\n",
    "$$\n",
    "( \\alpha(u), \\alpha(v) = \\begin{cases} \\frac{1}{\\sqrt{M}} & u = 0 \\text{ або } v = 0 \\ \\sqrt{\\frac{2}{M}} & u, v \\neq 0 \\end{cases} ) ,\n",
    "$$\n",
    "- ( M, N )— розміри матриці.\n",
    "\n"
   ]
  },
  {
   "cell_type": "code",
   "id": "initial_id",
   "metadata": {
    "ExecuteTime": {
     "end_time": "2025-03-24T06:55:17.991058Z",
     "start_time": "2025-03-24T06:55:17.360567Z"
    }
   },
   "source": [
    "!pip install numpy scipy\n",
    "import numpy as np\n",
    "from scipy.fftpack import idct, dct\n",
    "\n",
    "np.set_printoptions(suppress=True, precision=3)"
   ],
   "outputs": [
    {
     "name": "stdout",
     "output_type": "stream",
     "text": [
      "Requirement already satisfied: numpy in /opt/anaconda3/envs/Labs/lib/python3.12/site-packages (2.2.4)\r\n",
      "Requirement already satisfied: scipy in /opt/anaconda3/envs/Labs/lib/python3.12/site-packages (1.15.2)\r\n"
     ]
    }
   ],
   "execution_count": 55
  },
  {
   "cell_type": "markdown",
   "id": "53b7346c387f010c",
   "metadata": {},
   "source": [
    "1. Побудуємо вихідну матрицю:\n"
   ]
  },
  {
   "cell_type": "code",
   "id": "eb1d8cc39b96cdf9",
   "metadata": {
    "ExecuteTime": {
     "end_time": "2025-03-24T06:55:18.001765Z",
     "start_time": "2025-03-24T06:55:17.996839Z"
    }
   },
   "source": [
    "# Вихідна матриця:\n",
    "N = 12\n",
    "image_matrix = np.array([\n",
    "    [N, N + 1, N + 2, N - 1],\n",
    "    [N + 3, N - 1, N - 2, N],\n",
    "    [N - 3, N + 2, N + 1, N + 2],\n",
    "    [N + 1, N + 2, N + 3, N + 1]\n",
    "])\n",
    "print(image_matrix)"
   ],
   "outputs": [
    {
     "name": "stdout",
     "output_type": "stream",
     "text": [
      "[[12 13 14 11]\n",
      " [15 11 10 12]\n",
      " [ 9 14 13 14]\n",
      " [13 14 15 13]]\n"
     ]
    }
   ],
   "execution_count": 56
  },
  {
   "cell_type": "markdown",
   "id": "1a4a8e7e5182854b",
   "metadata": {},
   "source": [
    "2. Виконаємо обчислення дискретного косинусного перетворення.\n"
   ]
  },
  {
   "cell_type": "code",
   "id": "6355f48db770cadc",
   "metadata": {
    "ExecuteTime": {
     "end_time": "2025-03-24T06:55:18.024118Z",
     "start_time": "2025-03-24T06:55:18.022098Z"
    }
   },
   "source": [
    "# Виконуємо 2D DCT (тип-II, ортогональний DCT):\n",
    "dct_matrix = dct(dct(image_matrix.T, norm='ortho').T, norm='ortho')\n"
   ],
   "outputs": [],
   "execution_count": 57
  },
  {
   "cell_type": "markdown",
   "id": "4c1111d3f67aa735",
   "metadata": {},
   "source": [
    "Виводимо результат:"
   ]
  },
  {
   "cell_type": "code",
   "id": "68b9a5d570bf64ba",
   "metadata": {
    "ExecuteTime": {
     "end_time": "2025-03-24T06:55:18.039611Z",
     "start_time": "2025-03-24T06:55:18.037469Z"
    }
   },
   "source": [
    "# Виведення результату:\n",
    "print(\"Матриця після дискретного косинусного перетворення (DCT):\")\n",
    "print(np.round(dct_matrix, 2))\n"
   ],
   "outputs": [
    {
     "name": "stdout",
     "output_type": "stream",
     "text": [
      "Матриця після дискретного косинусного перетворення (DCT):\n",
      "[[50.75 -0.33 -1.25 -0.14]\n",
      " [-1.9   1.84  1.03  0.76]\n",
      " [ 1.75  0.44 -2.25  1.71]\n",
      " [-0.02 -3.24 -3.4  -1.34]]\n"
     ]
    }
   ],
   "execution_count": 58
  },
  {
   "cell_type": "markdown",
   "id": "27a2d253b38e0bcf",
   "metadata": {},
   "source": [
    "3. Квантування таблиці\n",
    "\n",
    "Результуюча матриця ( F(u, v) ) ділиться поелементно на матрицю квантування і округлюється до найближчого цілого числа:\n",
    "$$\n",
    "F_{quan}(u, v) = \\text{round}\\left(\\frac{F(u, v)}{\\text{quant\\_matrix}(u, v)}\\right)\n",
    "$$\n"
   ]
  },
  {
   "cell_type": "code",
   "id": "8ae88b18bb281dae",
   "metadata": {
    "ExecuteTime": {
     "end_time": "2025-03-24T06:56:28.330631Z",
     "start_time": "2025-03-24T06:56:28.325950Z"
    }
   },
   "source": [
    "# Стандартна 4x4 квантуюча матриця :\n",
    "quant_matrix = np.array([\n",
    "    [16, 11, 10, 16],\n",
    "    [12, 12, 14, 19],\n",
    "    [14, 13, 16, 24],\n",
    "    [14, 17, 22, 29]\n",
    "])\n",
    "\n",
    "# Квантована матриця:\n",
    "quantized_matrix = np.round(dct_matrix / quant_matrix)\n"
   ],
   "outputs": [],
   "execution_count": 64
  },
  {
   "cell_type": "code",
   "id": "a1be3219c277e83a",
   "metadata": {
    "ExecuteTime": {
     "end_time": "2025-03-24T06:56:30.862311Z",
     "start_time": "2025-03-24T06:56:30.859260Z"
    }
   },
   "source": [
    "# Виведення результатів:\n",
    "print(\"Матриця після DCT:\")\n",
    "print(np.round(dct_matrix, 2))  # Округлення для читабельності\n",
    "print(\"\\nКвантована матриця:\")\n",
    "print(quantized_matrix)\n"
   ],
   "outputs": [
    {
     "name": "stdout",
     "output_type": "stream",
     "text": [
      "Матриця після DCT:\n",
      "[[50.75 -0.33 -1.25 -0.14]\n",
      " [-1.9   1.84  1.03  0.76]\n",
      " [ 1.75  0.44 -2.25  1.71]\n",
      " [-0.02 -3.24 -3.4  -1.34]]\n",
      "\n",
      "Квантована матриця:\n",
      "[[ 3. -0. -0. -0.]\n",
      " [-0.  0.  0.  0.]\n",
      " [ 0.  0. -0.  0.]\n",
      " [-0. -0. -0. -0.]]\n"
     ]
    }
   ],
   "execution_count": 65
  },
  {
   "cell_type": "markdown",
   "id": "9c10418a362f3473",
   "metadata": {},
   "source": [
    "4. Відновити матрицю зображення за допомогою зворотного ДКП"
   ]
  },
  {
   "cell_type": "code",
   "id": "e2810f5d3ff4957a",
   "metadata": {
    "ExecuteTime": {
     "end_time": "2025-03-24T06:58:15.756051Z",
     "start_time": "2025-03-24T06:58:15.709839Z"
    }
   },
   "source": [
    "# Деквантована матриця (повернення значень DCT-матриці):\n",
    "dequantized_matrix = quantized_matrix * quant_matrix\n",
    "\n",
    "# Виконуємо зворотне 2D DCT (IDCT):\n",
    "restored_matrix = idct(idct(dequantized_matrix.T, norm='ortho').T, norm='ortho')\n",
    "\n",
    "# Виведення відновленої матриці:\n",
    "print(\"Деквантована матриця:\")\n",
    "print(dequantized_matrix)\n",
    "\n",
    "print(\"\\nВідновлена матриця вихідного зображення:\")\n",
    "print(np.round(restored_matrix))\n"
   ],
   "outputs": [
    {
     "name": "stdout",
     "output_type": "stream",
     "text": [
      "Деквантована матриця:\n",
      "[[48. -0. -0. -0.]\n",
      " [-0.  0.  0.  0.]\n",
      " [ 0.  0. -0.  0.]\n",
      " [-0. -0. -0. -0.]]\n",
      "\n",
      "Відновлена матриця вихідного зображення:\n",
      "[[12. 12. 12. 12.]\n",
      " [12. 12. 12. 12.]\n",
      " [12. 12. 12. 12.]\n",
      " [12. 12. 12. 12.]]\n"
     ]
    }
   ],
   "execution_count": 66
  },
  {
   "cell_type": "markdown",
   "id": "b2b1a0a0e5eafc45",
   "metadata": {},
   "source": [
    "5. Оцінити втрати якості зображення. Для парних варіантів визначити\n",
    "середньоквадратичне відхилення, для непарних – відношення сигнал/шум."
   ]
  },
  {
   "cell_type": "markdown",
   "id": "9a5a9f7bc7207cc5",
   "metadata": {},
   "source": [
    "### Середньоквадратичне відхилення (MSE)\n",
    "Середньоквадратичне відхилення оцінює, наскільки значення у вихідній матриці зображення (f(x, y)) відрізняються від відновленої матриці (f_{restored}(x, y)):\n",
    "$$\n",
    "MSE = \\frac{1}{M \\times N} \\sum_{x=0}^{M-1} \\sum_{y=0}^{N-1} \\left(f(x, y) - f_{restored}(x, y)\\right)^2,\n",
    "$$\n",
    "де:\n",
    "- (M, N) — розміри матриці зображення.\n",
    "- (f(x, y)) — вихідна (початкова) матриця зображення.\n",
    "- (f_{restored}(x, y)) — відновлена матриця зображення.\n"
   ]
  },
  {
   "cell_type": "markdown",
   "id": "2d8cf2dae402bdda",
   "metadata": {},
   "source": [
    "### Відношення сигнал/шум (SNR)\n",
    "Для непарних варіантів обчислюється SNR. Воно характеризує співвідношення між потужністю сигналу та потужністю шуму:\n",
    "$$\n",
    "SNR = 10 \\cdot \\log_{10} \\left(\\frac{\\sum_{x=0}^{M-1} \\sum_{y=0}^{N-1} f(x, y)^2}{\\sum_{x=0}^{M-1} \\sum_{y=0}^{N-1} \\left(f(x, y) - f_{restored}(x, y)\\right)^2}\\right),\n",
    "$$\n",
    "де:\n",
    "- Чисельник — потужність сигналу.\n",
    "- Знаменник — потужність шуму (похибка між оригіналом і відновленим зображенням).\n"
   ]
  },
  {
   "cell_type": "code",
   "id": "b25d8aefc26522e1",
   "metadata": {
    "ExecuteTime": {
     "end_time": "2025-03-24T07:00:45.397567Z",
     "start_time": "2025-03-24T07:00:45.381807Z"
    }
   },
   "source": [
    "# Середньоквадратичне відхилення (MSE):\n",
    "def calculate_mse(original, restored):\n",
    "    mse = np.mean((original - restored) ** 2)\n",
    "    return mse\n",
    "\n",
    "\n",
    "# 2. Відношення сигнал/шум (SNR):\n",
    "def calculate_snr(original, restored):\n",
    "    signal_power = np.sum(original ** 2)\n",
    "    noise_power = np.sum((original - restored) ** 2)\n",
    "    snr = 10 * np.log10(signal_power / noise_power)\n",
    "    return snr\n"
   ],
   "outputs": [],
   "execution_count": 67
  },
  {
   "cell_type": "code",
   "id": "7e6331ecf7991c04",
   "metadata": {
    "ExecuteTime": {
     "end_time": "2025-03-24T07:01:33.668897Z",
     "start_time": "2025-03-24T07:01:33.648971Z"
    }
   },
   "source": [
    "# Вибір методу залежно від варіанту:\n",
    "variant = 1  # Заміна на свій варіант: парний чи непарний\n",
    "\n",
    "if variant % 2 == 0:\n",
    "    # Обчислення MSE\n",
    "    mse = calculate_mse(image_matrix, restored_matrix)\n",
    "    print(f\"Середньоквадратичне відхилення (MSE): {mse}\")\n",
    "else:\n",
    "    # Обчислення SNR\n",
    "    snr = calculate_snr(image_matrix, restored_matrix)\n",
    "    print(f\"Відношення сигнал/шум (SNR): {snr} дБ\")\n"
   ],
   "outputs": [
    {
     "name": "stdout",
     "output_type": "stream",
     "text": [
      "Відношення сигнал/шум (SNR): 16.941911513458116 дБ\n"
     ]
    }
   ],
   "execution_count": 69
  }
 ],
 "metadata": {
  "kernelspec": {
   "display_name": "Python 3 (ipykernel)",
   "language": "python",
   "name": "python3"
  },
  "language_info": {
   "codemirror_mode": {
    "name": "ipython",
    "version": 3
   },
   "file_extension": ".py",
   "mimetype": "text/x-python",
   "name": "python",
   "nbconvert_exporter": "python",
   "pygments_lexer": "ipython3",
   "version": "3.12.9"
  }
 },
 "nbformat": 4,
 "nbformat_minor": 5
}
