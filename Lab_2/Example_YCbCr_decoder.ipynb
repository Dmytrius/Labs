{
 "cells": [
  {
   "cell_type": "code",
   "id": "initial_id",
   "metadata": {
    "collapsed": true
   },
   "source": [
    "!pip install matplotlib pillow\n",
    "\n",
    "from PIL import Image\n",
    "import matplotlib.pyplot as plt\n",
    "\n",
    "\n",
    "im = Image.open('./example.jpg')\n"
   ],
   "outputs": [],
   "execution_count": null
  },
  {
   "metadata": {},
   "cell_type": "code",
   "source": [
    "plt.figure()\n",
    "plt.title(\"Original\")\n",
    "plt.imshow(im)\n",
    "\n",
    "ycbcr = im.convert('YCbCr')\n",
    "(y, cb, cr) = ycbcr.split()\n",
    "\n",
    "plt.figure()\n",
    "plt.subplot(131)\n",
    "plt.title(\"Y\")\n",
    "plt.imshow(y, cmap=\"gray\")\n",
    "plt.subplot(132)\n",
    "plt.title(\"Cb\")\n",
    "plt.imshow(cb, cmap=\"Blues\")\n",
    "plt.subplot(133)\n",
    "plt.title(\"Cr\")\n",
    "plt.imshow(cr, cmap=\"Reds\")\n",
    "plt.show()"
   ],
   "id": "6f8c1e8e3b5bdcd9",
   "outputs": [],
   "execution_count": null
  }
 ],
 "metadata": {
  "kernelspec": {
   "display_name": "Python 3",
   "language": "python",
   "name": "python3"
  },
  "language_info": {
   "codemirror_mode": {
    "name": "ipython",
    "version": 2
   },
   "file_extension": ".py",
   "mimetype": "text/x-python",
   "name": "python",
   "nbconvert_exporter": "python",
   "pygments_lexer": "ipython2",
   "version": "2.7.6"
  }
 },
 "nbformat": 4,
 "nbformat_minor": 5
}
