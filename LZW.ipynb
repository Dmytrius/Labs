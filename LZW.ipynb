{
 "cells": [
  {
   "metadata": {},
   "cell_type": "raw",
   "source": "Нехай, ми маємо послідовність символів - 02, 02, 02, 44, 12, 12, 12, 45, 45, 45",
   "id": "3948632673264617"
  },
  {
   "metadata": {},
   "cell_type": "code",
   "source": "data = \"02020244121212454545\"  # Можна замінити на будь-який інший текст",
   "id": "790ccd8aa1d276e7",
   "outputs": [],
   "execution_count": null
  },
  {
   "metadata": {},
   "cell_type": "code",
   "source": [
    "def lzw_compress(uncompressed):\n",
    "    \"\"\"\n",
    "    Реалізація алгоритму LZW для стиснення.\n",
    "    :param uncompressed: рядок, який потрібно стиснути\n",
    "    :return: список чисел (стиснений код)\n",
    "    \"\"\"\n",
    "    # Побудова початкового словника (ASCII символи)\n",
    "    dictionary = {chr(i): i for i in range(256)}\n",
    "    dict_size = 256\n",
    "    w = \"\"\n",
    "    compressed = []\n",
    "\n",
    "    for char in uncompressed:\n",
    "        wc = w + char\n",
    "        if wc in dictionary:\n",
    "            w = wc\n",
    "        else:\n",
    "            compressed.append(dictionary[w])\n",
    "            # Додаємо wc у словник\n",
    "            dictionary[wc] = dict_size\n",
    "            dict_size += 1\n",
    "            w = char\n",
    "\n",
    "    # Додаємо залишок\n",
    "    if w:\n",
    "        compressed.append(dictionary[w])\n",
    "\n",
    "    return compressed\n"
   ],
   "id": "db2d6c5f8d0efaf9",
   "outputs": [],
   "execution_count": null
  },
  {
   "metadata": {},
   "cell_type": "markdown",
   "source": "",
   "id": "9c6c5815c5217666"
  },
  {
   "metadata": {},
   "cell_type": "code",
   "source": [
    "    compressed_data = lzw_compress(data)\n",
    "    print(\"Стиснені дані:\", compressed_data)"
   ],
   "id": "bd612fca09c17573",
   "outputs": [],
   "execution_count": null
  },
  {
   "metadata": {},
   "cell_type": "code",
   "source": [
    "    # Обчислення коефіцієнта ефективності стиснення\n",
    "    original_size = len(data)  # Розмір початкових даних\n",
    "    compressed_size = len(compressed)  # Розмір стиснених даних\n",
    "    compression_efficiency = (original_size / compressed_size)\n",
    "    print(compression_efficiency)\n"
   ],
   "id": "c1fdd6361cc88a35",
   "outputs": [],
   "execution_count": null
  }
 ],
 "metadata": {
  "kernelspec": {
   "display_name": "Python 3",
   "language": "python",
   "name": "python3"
  },
  "language_info": {
   "codemirror_mode": {
    "name": "ipython",
    "version": 2
   },
   "file_extension": ".py",
   "mimetype": "text/x-python",
   "name": "python",
   "nbconvert_exporter": "python",
   "pygments_lexer": "ipython2",
   "version": "2.7.6"
  }
 },
 "nbformat": 4,
 "nbformat_minor": 5
}
