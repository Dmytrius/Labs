{
 "cells": [
  {
   "metadata": {},
   "cell_type": "markdown",
   "source": "Нехай, ми маємо послідовність символів - 02, 02, 02, 44, 12, 12, 12, 45, 45, 45",
   "id": "311cd5618f7535fe"
  },
  {
   "metadata": {},
   "cell_type": "code",
   "source": "data = ['02', '02', '02', '44', '12', '12', '12', '45', '45', '45']",
   "id": "f0e9fc913a7d1cd6",
   "outputs": [],
   "execution_count": null
  },
  {
   "metadata": {},
   "cell_type": "markdown",
   "source": "Опишемо функцію, яка буде кодувати символи, згідно з реалізацією алгоритму RLE",
   "id": "675cee5f8aa6995f"
  },
  {
   "cell_type": "code",
   "id": "a58314248ddc15d3",
   "metadata": {},
   "source": [
    "def rle_encode(sequence):\n",
    "    \"\"\"\n",
    "    Функція приймає список елементів (рядків/чисел) та повертає стиснену послідовність у вигляді списку кортежів (елемент, кількість).\n",
    "    \"\"\"\n",
    "    if not sequence:\n",
    "        return []\n",
    "\n",
    "    encoded = []\n",
    "    current = sequence[0]\n",
    "    count = 1\n",
    "\n",
    "    for item in sequence[1:]:\n",
    "        if item == current:\n",
    "            count += 1\n",
    "        else:\n",
    "            encoded.append((current, count))\n",
    "            current = item\n",
    "            count = 1\n",
    "\n",
    "    encoded.append((current, count))\n",
    "\n",
    "    return encoded\n"
   ],
   "outputs": [],
   "execution_count": null
  },
  {
   "cell_type": "markdown",
   "id": "abbccbe138b397f1",
   "metadata": {},
   "source": "Отримуємо результат нашої реалізації:"
  },
  {
   "cell_type": "code",
   "id": "347ec2b08408d11c",
   "metadata": {},
   "source": [
    "result = rle_encode(data)\n",
    "print(result)"
   ],
   "outputs": [],
   "execution_count": null
  },
  {
   "metadata": {},
   "cell_type": "markdown",
   "source": "Розраховуємо коефіцієнт стискування (Коефіцієнт стискування = (кількість елементів у початковій послідовності) / (кількість кортежів у стисненій послідовності)):\n",
   "id": "9831f16b72d33250"
  },
  {
   "cell_type": "code",
   "id": "ffe121cd4dfa8967",
   "metadata": {},
   "source": [
    "compression_coefficient = len(data) / len(result)\n",
    "print(\"Коефіцієнт стискування:\", compression_coefficient)"
   ],
   "outputs": [],
   "execution_count": null
  }
 ],
 "metadata": {
  "kernelspec": {
   "display_name": "Python 3 (ipykernel)",
   "language": "python",
   "name": "python3"
  },
  "language_info": {
   "codemirror_mode": {
    "name": "ipython",
    "version": 3
   },
   "file_extension": ".py",
   "mimetype": "text/x-python",
   "name": "python",
   "nbconvert_exporter": "python",
   "pygments_lexer": "ipython3",
   "version": "3.12.7"
  }
 },
 "nbformat": 4,
 "nbformat_minor": 5
}
