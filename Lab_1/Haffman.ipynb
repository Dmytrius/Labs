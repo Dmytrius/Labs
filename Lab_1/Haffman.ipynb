{
 "cells": [
  {
   "metadata": {},
   "cell_type": "markdown",
   "source": [
    "Алгоритм Гаффмана\n",
    "У цьому ноутбуці ми реалізуємо процес кодування та декодування тексту за допомогою алгоритму Гаффмана."
   ],
   "id": "5194cb283289fee5"
  },
  {
   "cell_type": "code",
   "id": "initial_id",
   "metadata": {
    "collapsed": true,
    "ExecuteTime": {
     "end_time": "2025-03-11T12:47:22.522138Z",
     "start_time": "2025-03-11T12:47:22.499090Z"
    }
   },
   "source": [
    "import heapq\n",
    "from collections import defaultdict"
   ],
   "outputs": [],
   "execution_count": 11
  },
  {
   "metadata": {
    "ExecuteTime": {
     "end_time": "2025-03-11T12:47:22.534928Z",
     "start_time": "2025-03-11T12:47:22.531463Z"
    }
   },
   "cell_type": "code",
   "source": [
    "class Node:\n",
    "    def __init__(self, char, freq):\n",
    "        self.char = char\n",
    "        self.freq = freq\n",
    "        self.left = None\n",
    "        self.right = None\n",
    "\n",
    "    # Перевизначення операторів для порівняння вузлів\n",
    "    def __lt__(self, other):\n",
    "        return self.freq < other.freq"
   ],
   "id": "c7bdbfdd17f7d43f",
   "outputs": [],
   "execution_count": 12
  },
  {
   "metadata": {},
   "cell_type": "markdown",
   "source": "",
   "id": "eccfd3777f3cb66b"
  },
  {
   "metadata": {
    "ExecuteTime": {
     "end_time": "2025-03-11T12:47:22.543094Z",
     "start_time": "2025-03-11T12:47:22.541259Z"
    }
   },
   "cell_type": "code",
   "source": [
    "def calculate_frequency(data):\n",
    "    \"\"\"Функція для підрахунку частоти використання символів.\"\"\"\n",
    "    freq_dict = defaultdict(int)\n",
    "    for char in data:\n",
    "        freq_dict[char] += 1\n",
    "    return freq_dict"
   ],
   "id": "7b53a05538c3b259",
   "outputs": [],
   "execution_count": 13
  },
  {
   "metadata": {},
   "cell_type": "markdown",
   "source": "",
   "id": "b23594cb3628c751"
  },
  {
   "metadata": {
    "ExecuteTime": {
     "end_time": "2025-03-11T12:47:22.550511Z",
     "start_time": "2025-03-11T12:47:22.547799Z"
    }
   },
   "cell_type": "code",
   "source": [
    "def build_huffman_tree(frequencies):\n",
    "    \"\"\"Створення дерева Гаффмана з використанням черги з пріоритетами.\"\"\"\n",
    "    priority_queue = [Node(char, freq) for char, freq in frequencies.items()]\n",
    "    heapq.heapify(priority_queue)\n",
    "\n",
    "    # Об'єднуємо вузли поки не залишиться - кореневий вузол\n",
    "    while len(priority_queue) > 1:\n",
    "        left = heapq.heappop(priority_queue)  # Найменший вузол\n",
    "        right = heapq.heappop(priority_queue)  # Другий найменший вузол\n",
    "        merged = Node(None, left.freq + right.freq)  # Об'єднаний вузол\n",
    "        merged.left = left\n",
    "        merged.right = right\n",
    "        heapq.heappush(priority_queue, merged)\n",
    "\n",
    "    return priority_queue[0]  # Кореневий вузол дерева"
   ],
   "id": "ba1ad23359a8077d",
   "outputs": [],
   "execution_count": 14
  },
  {
   "metadata": {},
   "cell_type": "markdown",
   "source": "",
   "id": "59e91f4f1c65a686"
  },
  {
   "metadata": {
    "ExecuteTime": {
     "end_time": "2025-03-11T12:47:22.557939Z",
     "start_time": "2025-03-11T12:47:22.555795Z"
    }
   },
   "cell_type": "code",
   "source": [
    "def build_codes(node, current_code=\"\", codes={}):\n",
    "    \"\"\"Рекурсивно створює коди Гаффмана.\"\"\"\n",
    "    if node is None:\n",
    "        return\n",
    "\n",
    "    # Якщо символ - це лист (кінцевий вузол), прив'язати код\n",
    "    if node.char is not None:\n",
    "        codes[node.char] = current_code\n",
    "        return\n",
    "\n",
    "    # Рекурсія для лівої та правої гілки\n",
    "    build_codes(node.left, current_code + \"0\", codes)\n",
    "    build_codes(node.right, current_code + \"1\", codes)"
   ],
   "id": "925d99471613c707",
   "outputs": [],
   "execution_count": 15
  },
  {
   "metadata": {},
   "cell_type": "markdown",
   "source": "",
   "id": "c9ceea4668bfeda6"
  },
  {
   "metadata": {
    "ExecuteTime": {
     "end_time": "2025-03-11T12:47:22.564373Z",
     "start_time": "2025-03-11T12:47:22.562269Z"
    }
   },
   "cell_type": "code",
   "source": [
    "def huffman_encode(data):\n",
    "    \"\"\"Кодує вхідні дані за допомогою алгоритму Гаффмана.\"\"\"\n",
    "    frequencies = calculate_frequency(data)\n",
    "    root = build_huffman_tree(frequencies)\n",
    "    codes = {}\n",
    "    build_codes(root, \"\", codes)\n",
    "\n",
    "    # Кодування тексту\n",
    "    encoded_data = \"\".join([codes[char] for char in data])\n",
    "    return encoded_data, codes"
   ],
   "id": "4569e9a8f63c4bbb",
   "outputs": [],
   "execution_count": 16
  },
  {
   "metadata": {},
   "cell_type": "markdown",
   "source": "",
   "id": "ebbb685dec646d63"
  },
  {
   "metadata": {
    "ExecuteTime": {
     "end_time": "2025-03-11T12:47:22.570768Z",
     "start_time": "2025-03-11T12:47:22.568921Z"
    }
   },
   "cell_type": "code",
   "source": [
    "def huffman_decode(encoded_data, codes):\n",
    "    \"\"\"Декодування рядка, закодованого алгоритмом Гаффмана.\"\"\"\n",
    "    reverse_codes = {v: k for k, v in codes.items()}\n",
    "    decoded_data = \"\"\n",
    "\n",
    "    current_code = \"\"\n",
    "    for bit in encoded_data:\n",
    "        current_code += bit\n",
    "        if current_code in reverse_codes:\n",
    "            decoded_data += reverse_codes[current_code]\n",
    "            current_code = \"\"\n",
    "\n",
    "    return decoded_data"
   ],
   "id": "762e81d1490ea093",
   "outputs": [],
   "execution_count": 17
  },
  {
   "metadata": {},
   "cell_type": "markdown",
   "source": "",
   "id": "1a228563abb6e61"
  },
  {
   "metadata": {
    "ExecuteTime": {
     "end_time": "2025-03-11T12:47:22.577248Z",
     "start_time": "2025-03-11T12:47:22.575706Z"
    }
   },
   "cell_type": "code",
   "source": [
    "data = \"02020244121212454545\"\n",
    "print(\"Вхідні дані:\", data)"
   ],
   "id": "e81f501dd573059d",
   "outputs": [
    {
     "name": "stdout",
     "output_type": "stream",
     "text": [
      "Вхідні дані: 02020244121212454545\n"
     ]
    }
   ],
   "execution_count": 18
  },
  {
   "metadata": {},
   "cell_type": "markdown",
   "source": "",
   "id": "cae9fe64e3eac6b"
  },
  {
   "metadata": {
    "ExecuteTime": {
     "end_time": "2025-03-11T12:47:22.650394Z",
     "start_time": "2025-03-11T12:47:22.647457Z"
    }
   },
   "cell_type": "code",
   "source": [
    "encoded_data, codes = huffman_encode(data)\n",
    "print(\"Закодовані дані:\", encoded_data)\n",
    "print(\"Коди символів:\", codes)"
   ],
   "id": "fea1251685ff7935",
   "outputs": [
    {
     "name": "stdout",
     "output_type": "stream",
     "text": [
      "Закодовані дані: 0010001000100101111101111011110011100111001110\n",
      "Коди символів: {'0': '00', '4': '01', '2': '10', '5': '110', '1': '111'}\n"
     ]
    }
   ],
   "execution_count": 19
  },
  {
   "metadata": {},
   "cell_type": "markdown",
   "source": "",
   "id": "f621a6bee8d7a2cc"
  },
  {
   "metadata": {
    "ExecuteTime": {
     "end_time": "2025-03-11T12:47:22.672922Z",
     "start_time": "2025-03-11T12:47:22.670999Z"
    }
   },
   "cell_type": "code",
   "source": [
    "decoded_data = huffman_decode(encoded_data, codes)\n",
    "print(\"Декодовані дані:\", decoded_data)"
   ],
   "id": "f045360a82a8f2eb",
   "outputs": [
    {
     "name": "stdout",
     "output_type": "stream",
     "text": [
      "Декодовані дані: 02020244121212454545\n"
     ]
    }
   ],
   "execution_count": 20
  }
 ],
 "metadata": {
  "kernelspec": {
   "display_name": "Python 3",
   "language": "python",
   "name": "python3"
  },
  "language_info": {
   "codemirror_mode": {
    "name": "ipython",
    "version": 2
   },
   "file_extension": ".py",
   "mimetype": "text/x-python",
   "name": "python",
   "nbconvert_exporter": "python",
   "pygments_lexer": "ipython2",
   "version": "2.7.6"
  }
 },
 "nbformat": 4,
 "nbformat_minor": 5
}
