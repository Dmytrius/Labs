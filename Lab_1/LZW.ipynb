{
 "cells": [
  {
   "metadata": {},
   "cell_type": "raw",
   "source": "Нехай, ми маємо послідовність символів - 02, 02, 02, 44, 12, 12, 12, 45, 45, 45",
   "id": "3948632673264617"
  },
  {
   "metadata": {
    "ExecuteTime": {
     "end_time": "2025-03-11T12:37:16.562365Z",
     "start_time": "2025-03-11T12:37:16.553160Z"
    }
   },
   "cell_type": "code",
   "source": "data = \"02020244121212454545\"  # Можна замінити на будь-який інший текст",
   "id": "790ccd8aa1d276e7",
   "outputs": [],
   "execution_count": 5
  },
  {
   "metadata": {
    "ExecuteTime": {
     "end_time": "2025-03-11T12:40:45.440378Z",
     "start_time": "2025-03-11T12:40:45.435018Z"
    }
   },
   "cell_type": "code",
   "source": [
    "def lzw_compress(uncompressed):\n",
    "    \"\"\"\n",
    "    Реалізація алгоритму LZW для стиснення.\n",
    "    :param uncompressed: рядок, який потрібно стиснути\n",
    "    :return: список чисел (стиснений код)\n",
    "    \"\"\"\n",
    "    # Побудова початкового словника (ASCII символи)\n",
    "    dictionary = {chr(i): i for i in range(256)}\n",
    "    dict_size = 256\n",
    "    w = \"\"\n",
    "    compressed = []\n",
    "\n",
    "    for char in uncompressed:\n",
    "        wc = w + char\n",
    "        if wc in dictionary:\n",
    "            w = wc\n",
    "        else:\n",
    "            compressed.append(dictionary[w])\n",
    "            # Додаємо wc у словник\n",
    "            dictionary[wc] = dict_size\n",
    "            dict_size += 1\n",
    "            w = char\n",
    "\n",
    "    # Додаємо залишок\n",
    "    if w:\n",
    "        compressed.append(dictionary[w])\n",
    "\n",
    "    return compressed\n"
   ],
   "id": "db2d6c5f8d0efaf9",
   "outputs": [],
   "execution_count": 6
  },
  {
   "metadata": {},
   "cell_type": "markdown",
   "source": "",
   "id": "9c6c5815c5217666"
  },
  {
   "metadata": {
    "ExecuteTime": {
     "end_time": "2025-03-11T12:41:12.790312Z",
     "start_time": "2025-03-11T12:41:12.785975Z"
    }
   },
   "cell_type": "code",
   "source": [
    "compressed_data = lzw_compress(data)\n",
    "print(\"Стиснені дані:\", compressed_data)"
   ],
   "id": "bd612fca09c17573",
   "outputs": [
    {
     "name": "stdout",
     "output_type": "stream",
     "text": [
      "Стиснені дані: [48, 50, 256, 256, 52, 52, 49, 50, 262, 262, 52, 53, 266, 266]\n"
     ]
    }
   ],
   "execution_count": 7
  },
  {
   "metadata": {
    "ExecuteTime": {
     "end_time": "2025-03-11T12:44:08.367199Z",
     "start_time": "2025-03-11T12:44:08.361125Z"
    }
   },
   "cell_type": "code",
   "source": [
    "    # Обчислення коефіцієнта ефективності стиснення\n",
    "original_size = len(data)  # Розмір початкових даних\n",
    "compressed_size = len(compressed_data)  # Розмір стиснених даних\n",
    "compression_efficiency = (original_size / compressed_size)\n",
    "print(compression_efficiency)\n"
   ],
   "id": "c1fdd6361cc88a35",
   "outputs": [
    {
     "name": "stdout",
     "output_type": "stream",
     "text": [
      "1.4285714285714286\n"
     ]
    }
   ],
   "execution_count": 8
  }
 ],
 "metadata": {
  "kernelspec": {
   "display_name": "Python 3 (ipykernel)",
   "language": "python",
   "name": "python3"
  },
  "language_info": {
   "codemirror_mode": {
    "name": "ipython",
    "version": 2
   },
   "file_extension": ".py",
   "mimetype": "text/x-python",
   "name": "python",
   "nbconvert_exporter": "python",
   "pygments_lexer": "ipython2",
   "version": "2.7.6"
  }
 },
 "nbformat": 4,
 "nbformat_minor": 5
}
