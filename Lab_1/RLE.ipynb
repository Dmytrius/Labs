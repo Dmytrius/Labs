{
 "cells": [
  {
   "metadata": {},
   "cell_type": "markdown",
   "source": "Нехай, ми маємо послідовність символів - 02, 02, 02, 44, 12, 12, 12, 45, 45, 45",
   "id": "311cd5618f7535fe"
  },
  {
   "metadata": {
    "ExecuteTime": {
     "end_time": "2025-03-11T13:36:41.459888Z",
     "start_time": "2025-03-11T13:36:41.451320Z"
    }
   },
   "cell_type": "code",
   "source": "data = ['02', '02', '02', '44', '12', '12', '12', '45', '45']",
   "id": "f0e9fc913a7d1cd6",
   "outputs": [],
   "execution_count": 25
  },
  {
   "metadata": {},
   "cell_type": "markdown",
   "source": "Опишемо функцію, яка буде кодувати символи, згідно з реалізацією алгоритму RLE",
   "id": "675cee5f8aa6995f"
  },
  {
   "cell_type": "code",
   "id": "a58314248ddc15d3",
   "metadata": {
    "ExecuteTime": {
     "end_time": "2025-03-11T13:36:41.470703Z",
     "start_time": "2025-03-11T13:36:41.467563Z"
    }
   },
   "source": [
    "def rle_encode(sequence):\n",
    "    \"\"\"\n",
    "    Функція приймає список елементів (рядків/чисел) та повертає стиснену послідовність у вигляді списку кортежів (елемент, кількість).\n",
    "    \"\"\"\n",
    "    if not sequence:\n",
    "        return []\n",
    "\n",
    "    encoded = []\n",
    "    current = sequence[0]\n",
    "    count = 1\n",
    "\n",
    "    for item in sequence[1:]:\n",
    "        if item == current:\n",
    "            count += 1\n",
    "        else:\n",
    "            encoded.append((current, count))\n",
    "            current = item\n",
    "            count = 1\n",
    "\n",
    "    encoded.append((current, count))\n",
    "\n",
    "    return encoded\n"
   ],
   "outputs": [],
   "execution_count": 26
  },
  {
   "cell_type": "markdown",
   "id": "abbccbe138b397f1",
   "metadata": {},
   "source": "Отримуємо результат нашої реалізації:"
  },
  {
   "cell_type": "code",
   "id": "347ec2b08408d11c",
   "metadata": {
    "ExecuteTime": {
     "end_time": "2025-03-11T13:36:41.480124Z",
     "start_time": "2025-03-11T13:36:41.477474Z"
    }
   },
   "source": [
    "result = rle_encode(data)\n",
    "print(result)"
   ],
   "outputs": [
    {
     "name": "stdout",
     "output_type": "stream",
     "text": [
      "[('02', 3), ('44', 1), ('12', 3), ('45', 2)]\n"
     ]
    }
   ],
   "execution_count": 27
  },
  {
   "metadata": {},
   "cell_type": "markdown",
   "source": "Розраховуємо коефіцієнт стискування (Коефіцієнт стискування = (кількість елементів у початковій послідовності) / (кількість кортежів у стисненій послідовності)):\n",
   "id": "9831f16b72d33250"
  },
  {
   "cell_type": "code",
   "id": "ffe121cd4dfa8967",
   "metadata": {
    "ExecuteTime": {
     "end_time": "2025-03-11T13:36:41.501342Z",
     "start_time": "2025-03-11T13:36:41.499343Z"
    }
   },
   "source": [
    "compression_coefficient = len(data) / len(result)\n",
    "print(\"Коефіцієнт стискування:\", compression_coefficient)"
   ],
   "outputs": [
    {
     "name": "stdout",
     "output_type": "stream",
     "text": [
      "Коефіцієнт стискування: 2.25\n"
     ]
    }
   ],
   "execution_count": 28
  }
 ],
 "metadata": {
  "kernelspec": {
   "display_name": "Python 3 (ipykernel)",
   "language": "python",
   "name": "python3"
  },
  "language_info": {
   "codemirror_mode": {
    "name": "ipython",
    "version": 3
   },
   "file_extension": ".py",
   "mimetype": "text/x-python",
   "name": "python",
   "nbconvert_exporter": "python",
   "pygments_lexer": "ipython3",
   "version": "3.12.7"
  }
 },
 "nbformat": 4,
 "nbformat_minor": 5
}
